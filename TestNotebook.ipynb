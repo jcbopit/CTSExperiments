{
 "cells": [
  {
   "cell_type": "code",
   "execution_count": 3,
   "metadata": {
    "vscode": {
     "languageId": "sage"
    }
   },
   "outputs": [
    {
     "data": {
      "text/plain": [
       "-t^3 + t"
      ]
     },
     "execution_count": 3,
     "metadata": {},
     "output_type": "execute_result"
    }
   ],
   "source": [
    "import DFA\n",
    "\n",
    "p=3\n",
    "R.<t> = LaurentPolynomialRing(GF(p), 1)\n",
    "\n",
    "DFA.Lambda(t + t^2 + t^3 + 2*t^9, p)"
   ]
  },
  {
   "cell_type": "code",
   "execution_count": 2,
   "metadata": {
    "vscode": {
     "languageId": "sage"
    }
   },
   "outputs": [
    {
     "data": {
      "text/plain": [
       "2"
      ]
     },
     "execution_count": 2,
     "metadata": {},
     "output_type": "execute_result"
    }
   ],
   "source": [
    "import PolyUtil\n",
    "\n",
    "PolyUtil.get_coefficient(t + 2*t^-2, -2)"
   ]
  },
  {
   "cell_type": "code",
   "execution_count": 3,
   "metadata": {
    "vscode": {
     "languageId": "sage"
    }
   },
   "outputs": [
    {
     "name": "stdout",
     "output_type": "stream",
     "text": [
      "[0 2 0 0 0 1 0 0 0]\n",
      "[0 2 0 0 0 1 0 0 0]\n"
     ]
    }
   ],
   "source": [
    "import LinRep\n",
    "def poly_to_vec_2(poly, max_deg):\n",
    "    return Matrix(1, 2*max_deg + 1, lambda _, i : LinRep.get_coefficient(poly, i-max_deg))\n",
    "\n",
    "print(poly_to_vec_2(t + 2*t^(-3), 4))\n",
    "print(LinRep.poly_to_vec(t + 2*t^(-3), 4))"
   ]
  },
  {
   "cell_type": "code",
   "execution_count": 4,
   "metadata": {
    "vscode": {
     "languageId": "sage"
    }
   },
   "outputs": [
    {
     "data": {
      "text/plain": [
       "[0 0 0 0 0 0 0]\n",
       "[0 0 0 0 0 0 0]\n",
       "[0 0 0 0 0 0 0]\n",
       "[0 0 0 1 0 0 0]\n",
       "[0 0 0 2 0 0 0]\n",
       "[0 0 0 0 0 0 0]\n",
       "[0 0 0 0 0 0 0]"
      ]
     },
     "execution_count": 4,
     "metadata": {},
     "output_type": "execute_result"
    }
   ],
   "source": [
    "LinRep.compute_mat_for_poly(1+2*t, 3, 5)"
   ]
  },
  {
   "cell_type": "code",
   "execution_count": 5,
   "metadata": {
    "vscode": {
     "languageId": "sage"
    }
   },
   "outputs": [
    {
     "name": "stdout",
     "output_type": "stream",
     "text": [
      "3\n"
     ]
    }
   ],
   "source": [
    "p=7\n",
    "R.<t> = LaurentPolynomialRing(GF(p), 1)\n",
    "answer = LinRep.compute_shortest_zero(t+1+t^(-1), R(1), p, 10000)\n",
    "print(answer)"
   ]
  },
  {
   "cell_type": "code",
   "execution_count": 6,
   "metadata": {
    "vscode": {
     "languageId": "sage"
    }
   },
   "outputs": [
    {
     "name": "stdout",
     "output_type": "stream",
     "text": [
      "1\n",
      "1\n",
      "3\n",
      "0\n"
     ]
    }
   ],
   "source": [
    "import Sequences\n",
    "if (answer == None):\n",
    "    answer = p-1\n",
    "for i in range(answer + 1):\n",
    "    print(Sequences.Central_Trinomial_mod(i,p))"
   ]
  },
  {
   "cell_type": "code",
   "execution_count": 7,
   "metadata": {
    "vscode": {
     "languageId": "sage"
    }
   },
   "outputs": [
    {
     "name": "stdout",
     "output_type": "stream",
     "text": [
      "0: 1\n",
      "1: 1\n",
      "2: 3\n",
      "3: 7\n",
      "4: 19\n",
      "5: 2\n",
      "6: 43\n",
      "7: 1\n",
      "8: 29\n",
      "9: 3\n",
      "10: 35\n",
      "11: 26\n",
      "12: 44\n",
      "13: 36\n",
      "14: 3\n",
      "15: 38\n",
      "16: 30\n",
      "17: 7\n",
      "18: 36\n",
      "19: 41\n",
      "20: 38\n",
      "21: 7\n",
      "22: 0\n",
      "23: 35\n",
      "24: 42\n",
      "25: 42\n",
      "26: 0\n",
      "27: 7\n",
      "28: 19\n",
      "29: 12\n",
      "30: 15\n",
      "31: 28\n",
      "32: 39\n",
      "33: 38\n",
      "34: 40\n",
      "35: 2\n",
      "36: 9\n",
      "37: 13\n",
      "38: 21\n",
      "39: 38\n",
      "40: 25\n",
      "41: 16\n",
      "42: 43\n",
      "43: 43\n",
      "44: 24\n",
      "45: 7\n",
      "46: 47\n",
      "47: 2\n",
      "48: 43\n",
      "49: 1\n",
      "50: 1\n",
      "51: 3\n",
      "52: 7\n",
      "53: 19\n",
      "54: 2\n",
      "55: 43\n",
      "56: 29\n",
      "57: 8\n",
      "58: 38\n",
      "59: 35\n",
      "60: 19\n",
      "61: 2\n",
      "62: 15\n",
      "63: 3\n",
      "64: 38\n",
      "65: 30\n",
      "66: 7\n",
      "67: 36\n",
      "68: 41\n",
      "69: 38\n",
      "70: 35\n",
      "71: 28\n",
      "72: 21\n",
      "73: 42\n",
      "74: 35\n",
      "75: 7\n",
      "76: 35\n",
      "77: 26\n",
      "78: 19\n",
      "79: 36\n",
      "80: 28\n",
      "81: 25\n",
      "82: 3\n",
      "83: 47\n",
      "84: 44\n",
      "85: 2\n",
      "86: 41\n",
      "87: 21\n",
      "88: 3\n",
      "89: 11\n",
      "90: 9\n",
      "91: 36\n",
      "92: 36\n",
      "93: 3\n",
      "94: 7\n",
      "95: 12\n",
      "96: 37\n",
      "97: 36\n"
     ]
    }
   ],
   "source": [
    "import Sequences\n",
    "p = 7\n",
    "R.<t> = LaurentPolynomialRing(ZZ, 1)\n",
    "for i in range(2*p^2):\n",
    "    print(str(i) + \": \" + str(Sequences.Central_Trinomial(i) % p^2))"
   ]
  },
  {
   "cell_type": "code",
   "execution_count": 2,
   "metadata": {
    "vscode": {
     "languageId": "sage"
    }
   },
   "outputs": [
    {
     "data": {
      "text/plain": [
       "[0.10000000000000000?   0.090000000000000?   0.090000000000000?   0.090000000000000?   0.090000000000000?   0.090000000000000?   0.090000000000000?   0.090000000000000?   0.090000000000000?   0.090000000000000?   0.090000000000000?]"
      ]
     },
     "execution_count": 2,
     "metadata": {},
     "output_type": "execute_result"
    }
   ],
   "source": [
    "import Density\n",
    "\n",
    "p = 11\n",
    "R.<t> = LaurentPolynomialRing(GF(p), 1)\n",
    "\n",
    "Density.compute_densities(3*t + 5 + t^(-1), 1-t^2, p)"
   ]
  },
  {
   "cell_type": "code",
   "execution_count": 26,
   "metadata": {
    "vscode": {
     "languageId": "sage"
    }
   },
   "outputs": [
    {
     "data": {
      "text/plain": [
       "[[1, 0, 0],\n",
       " [1, 1, 0, 0],\n",
       " [1, 0, 1, 0, 0],\n",
       " [1, 0, 1, 1, 0, 0],\n",
       " [1, 0, 0, 0, 1, 0, 0],\n",
       " [1, 1, 0, 1, 1, 1, 0, 0],\n",
       " [1, 0, 0, 0, 1, 0, 1, 0, 0],\n",
       " [1, 1, 0, 1, 1, 0, 1, 1, 0, 0],\n",
       " [1, 0, 0, 0, 0, 0, 0, 0, 1, 0, 0],\n",
       " [1, 1, 0, 0, 0, 0, 0, 1, 1, 1, 0, 0]]"
      ]
     },
     "execution_count": 26,
     "metadata": {},
     "output_type": "execute_result"
    }
   ],
   "source": [
    "triangle = [[1,0,0]]\n",
    "for i in range(1, 10):\n",
    "    row = [1]\n",
    "    for j in range(1, i+1):\n",
    "        row.append((triangle[i-1][j-1] + triangle[i-1][j] + triangle[i-1][j+1]) % 2)\n",
    "    row.append(0)\n",
    "    row.append(0)\n",
    "    triangle.append(row)\n",
    "triangle"
   ]
  },
  {
   "cell_type": "code",
   "execution_count": 27,
   "metadata": {
    "vscode": {
     "languageId": "sage"
    }
   },
   "outputs": [
    {
     "data": {
      "text/plain": [
       "([[0, 0, 0, 0, 0, 0, 1, 0, 0, 0],\n",
       "  [0, 0, 0, 0, 1, 1, 1, 1, 0, 0],\n",
       "  [0, 0, 1, 2, 3, 4, 3, 2, 1, 0],\n",
       "  [1, 3, 6, 10, 12, 12, 10, 6, 3, 1]],\n",
       " 6)"
      ]
     },
     "execution_count": 27,
     "metadata": {},
     "output_type": "execute_result"
    }
   ],
   "source": [
    "import Transforms\n",
    "p = 41\n",
    "R.<t> = LaurentPolynomialRing(GF(p), 1)\n",
    "P = t^-2 + t^-1 + 1 + t\n",
    "\n",
    "PolyUtil.compute_triangle(P, p, 4)"
   ]
  },
  {
   "cell_type": "code",
   "execution_count": 28,
   "metadata": {
    "vscode": {
     "languageId": "sage"
    }
   },
   "outputs": [
    {
     "data": {
      "text/plain": [
       "[0, 1, 1, 1, 1, 0, 1, 0, 1, 1, 0, 1]"
      ]
     },
     "execution_count": 28,
     "metadata": {},
     "output_type": "execute_result"
    }
   ],
   "source": [
    "p = 2\n",
    "R.<t> = LaurentPolynomialRing(GF(p), 1)\n",
    "P = t^-1 + 1 + t + t^2\n",
    "Transforms.transform([0,1,1,0,1,0,0,1,1,0,0,1], P, p)"
   ]
  },
  {
   "cell_type": "code",
   "execution_count": 29,
   "metadata": {
    "vscode": {
     "languageId": "sage"
    }
   },
   "outputs": [
    {
     "data": {
      "text/plain": [
       "[0, 1, 1, 0, 1, 0, 0, 1, 1, 0, 0, 1]"
      ]
     },
     "execution_count": 29,
     "metadata": {},
     "output_type": "execute_result"
    }
   ],
   "source": [
    "Transforms.transform_inverse([0, 1, 1, 1, 1, 0, 1, 0, 1, 1, 0, 1], P, p)"
   ]
  },
  {
   "cell_type": "code",
   "execution_count": 30,
   "metadata": {
    "vscode": {
     "languageId": "sage"
    }
   },
   "outputs": [
    {
     "data": {
      "text/plain": [
       "([[0, 1, 1, 0, 1, 0, 0, 0, 1, 0, 0, 1], [1, 1, 1, 1, 1]],\n",
       " [[(0, 0), (1, 1)], [(0, 1), (1, 0)]],\n",
       " <function DFA_guess.<locals>.output_func at 0x12c6a4940>)"
      ]
     },
     "execution_count": 30,
     "metadata": {},
     "output_type": "execute_result"
    }
   ],
   "source": [
    "p = 2\n",
    "P = t^-1 + 1 + t^2 + t^3\n",
    "seq = [0,1,1,0,1,0,0,1,1,0,0,1]\n",
    "Transforms.DFA_guess(seq, P, p)"
   ]
  },
  {
   "cell_type": "code",
   "execution_count": 31,
   "metadata": {
    "vscode": {
     "languageId": "sage"
    }
   },
   "outputs": [
    {
     "data": {
      "text/plain": [
       "'lsd_3\\n\\n0 1\\n0 -> 1\\n1 -> 2\\n2 -> 3\\n\\n1 1\\n0 -> 1\\n1 -> 1\\n2 -> 4\\n\\n2 1\\n0 -> 1\\n1 -> 4\\n2 -> 2\\n\\n3 2\\n0 -> 5\\n1 -> 4\\n2 -> 3\\n\\n4 0\\n0 -> 4\\n1 -> 4\\n2 -> 4\\n\\n5 2\\n0 -> 5\\n1 -> 5\\n2 -> 4\\n\\n'"
      ]
     },
     "execution_count": 31,
     "metadata": {},
     "output_type": "execute_result"
    }
   ],
   "source": [
    "import Sequences\n",
    "p = 3\n",
    "R.<t> = LaurentPolynomialRing(GF(p), 1)\n",
    "P = t^-1 + 1\n",
    "seq = [Sequences.Constant_Term_mod(t^-1 + 1 + t, 1 - t^2, n, p) for n in range(100)]\n",
    "s_guess = DFA.serialize(Transforms.DFA_guess(seq, P, p), p)\n",
    "s_guess"
   ]
  },
  {
   "cell_type": "code",
   "execution_count": 32,
   "metadata": {
    "vscode": {
     "languageId": "sage"
    }
   },
   "outputs": [
    {
     "name": "stdout",
     "output_type": "stream",
     "text": [
      "True\n"
     ]
    }
   ],
   "source": [
    "import DFA\n",
    "machine = DFA.PolyAuto(t^-1 + 1 + t, 1-t^2, p, 10000)\n",
    "s_real = DFA.serialize(machine, p)\n",
    "\n",
    "print(s_guess == s_real)"
   ]
  },
  {
   "cell_type": "code",
   "execution_count": 33,
   "metadata": {
    "vscode": {
     "languageId": "sage"
    }
   },
   "outputs": [
    {
     "name": "stdout",
     "output_type": "stream",
     "text": [
      "lsd_2\n",
      "\n",
      "0 0\n",
      "0 -> 0\n",
      "1 -> 1\n",
      "\n",
      "1 1\n",
      "0 -> 1\n",
      "1 -> 0\n",
      "\n",
      "\n"
     ]
    }
   ],
   "source": [
    "p = 2\n",
    "R.<t> = LaurentPolynomialRing(GF(p), 1)\n",
    "machine = Transforms.DFA_guess(\"011010011001011010010110011010011001011001101001011\", t^-1 + 1, 2)\n",
    "print(DFA.serialize(machine, 2))"
   ]
  },
  {
   "cell_type": "code",
   "execution_count": 1,
   "metadata": {
    "vscode": {
     "languageId": "sage"
    }
   },
   "outputs": [
    {
     "name": "stdout",
     "output_type": "stream",
     "text": [
      "p = 2, tight = 1\n",
      "[0.3333333333333334? 0.6666666666666667?]\n",
      "p = 3, tight = 1/2\n",
      "1\n",
      "p = 5, tight = 1/4\n",
      "1/4\n",
      "p = 7, tight = 1/6\n",
      "1\n",
      "p = 11, tight = 1/10\n",
      "1/10\n",
      "p = 13, tight = 1/12\n",
      "1/6\n",
      "p = 17, tight = 1/16\n",
      "1\n",
      "p = 19, tight = 1/18\n",
      "1\n",
      "p = 23, tight = 1/22\n",
      "1/22\n",
      "p = 29, tight = 1/28\n",
      "11/105\n"
     ]
    }
   ],
   "source": [
    "import Density\n",
    "\n",
    "primes = Primes()\n",
    "for i in range(10):\n",
    "    p = primes.unrank(i)\n",
    "    R.<t> = LaurentPolynomialRing(GF(p), 1)\n",
    "    P = t^-1 + 1 + t\n",
    "    Q = 1 - t\n",
    "    print(f\"p = {p}, tight = {1/(p-1)}\")\n",
    "    #print(Density.compute_densities(P, Q, p)[0][0])\n",
    "    print(Density.generic_linear_zero_density_mod(Q, 3, 1, 3, 1, p))"
   ]
  },
  {
   "cell_type": "code",
   "execution_count": 6,
   "metadata": {
    "vscode": {
     "languageId": "sage"
    }
   },
   "outputs": [
    {
     "name": "stdout",
     "output_type": "stream",
     "text": [
      "p = 2, tight = 1/2, maybe = 1\n",
      "[0.3333333333333334? 0.6666666666666667?]\n",
      "p = 3, tight = 1/6, maybe = 1/2\n",
      "1\n",
      "p = 5, tight = 1/20, maybe = 1/4\n",
      "1/4\n",
      "p = 7, tight = 1/42, maybe = 1/6\n",
      "1\n",
      "p = 11, tight = 1/110, maybe = 1/10\n",
      "1/10\n",
      "p = 13, tight = 1/156, maybe = 1/12\n",
      "1/6\n",
      "p = 17, tight = 1/272, maybe = 1/16\n",
      "1\n",
      "p = 19, tight = 1/342, maybe = 1/18\n",
      "1\n",
      "p = 23, tight = 1/506, maybe = 1/22\n",
      "1/22\n",
      "p = 29, tight = 1/812, maybe = 1/28\n",
      "11/105\n",
      "p = 31, tight = 1/930, maybe = 1/30\n",
      "1/30\n",
      "p = 37, tight = 1/1332, maybe = 1/36\n",
      "1/36\n",
      "p = 41, tight = 1/1640, maybe = 1/40\n",
      "1\n",
      "p = 43, tight = 1/1806, maybe = 1/42\n",
      "1\n",
      "p = 47, tight = 1/2162, maybe = 1/46\n",
      "1\n",
      "p = 53, tight = 1/2756, maybe = 1/52\n",
      "20/351\n",
      "p = 59, tight = 1/3422, maybe = 1/58\n",
      "11/580\n",
      "p = 61, tight = 1/3660, maybe = 1/60\n",
      "1/60\n",
      "p = 67, tight = 1/4422, maybe = 1/66\n",
      "1/22\n",
      "p = 71, tight = 1/4970, maybe = 1/70\n",
      "1/70\n"
     ]
    }
   ],
   "source": [
    "import Density\n",
    "\n",
    "primes = Primes()\n",
    "for i in range(20):\n",
    "    p = primes.unrank(i)\n",
    "    R.<t> = LaurentPolynomialRing(GF(p), 1)\n",
    "    P = t^-1 + 1 + t\n",
    "    Q = 1 + t\n",
    "    print(f\"p = {p}, tight = {1/((p-1)*p)}, maybe = {1/(p-1)}\")\n",
    "    #print(Density.compute_densities(P, Q, p)[0][0])\n",
    "    print(Density.generic_linear_zero_density_mod(Q, 1, -1, 1, -1, p))"
   ]
  },
  {
   "cell_type": "code",
   "execution_count": 18,
   "metadata": {
    "vscode": {
     "languageId": "sage"
    }
   },
   "outputs": [
    {
     "name": "stdout",
     "output_type": "stream",
     "text": [
      "3\n",
      "DONE\n"
     ]
    }
   ],
   "source": [
    "from Sequences import Constant_Term_mod\n",
    "\n",
    "primes = Primes()\n",
    "for i in range(20):\n",
    "    p = primes.unrank(i)\n",
    "    F = GF(p)\n",
    "    R.<t> = LaurentPolynomialRing(F, 1)\n",
    "    P = t^-1 + 1 + t\n",
    "    Q = 1 + t\n",
    "    found = False\n",
    "    for j in range(p):\n",
    "        if (Constant_Term_mod(P, Q, j, p) == 0):\n",
    "            found = True\n",
    "            break\n",
    "    if (not found):\n",
    "        print(p)\n",
    "print(\"DONE\")"
   ]
  },
  {
   "cell_type": "code",
   "execution_count": 1,
   "metadata": {
    "vscode": {
     "languageId": "sage"
    }
   },
   "outputs": [
    {
     "name": "stdout",
     "output_type": "stream",
     "text": [
      "p = 2, tight = 1/2\n",
      "[0.6666666666666667? 0.3333333333333334?]\n",
      "p = 3, tight = 1/6\n",
      "1\n",
      "p = 5, tight = 1/20\n",
      "1/4\n",
      "p = 7, tight = 1/42\n",
      "1\n",
      "p = 11, tight = 1/110\n",
      "1/10\n",
      "p = 13, tight = 1/156\n",
      "1/12\n",
      "p = 17, tight = 1/272\n",
      "1\n",
      "p = 19, tight = 1/342\n",
      "1\n",
      "p = 23, tight = 1/506\n",
      "1/22\n",
      "p = 29, tight = 1/812\n",
      "4/105\n"
     ]
    }
   ],
   "source": [
    "import Density\n",
    "\n",
    "primes = Primes()\n",
    "for i in range(10):\n",
    "    p = primes.unrank(i)\n",
    "    R.<t> = LaurentPolynomialRing(GF(p), 1)\n",
    "    P = t^-1 + 1 + t\n",
    "    Q = t\n",
    "    print(f\"p = {p}, tight = {1/(p*(p-1))}\")\n",
    "    #print(Density.compute_densities(P, Q, p)[0][0])\n",
    "    print(Density.generic_linear_zero_density_mod(Q, 1, 1, 1, 1, p))"
   ]
  },
  {
   "cell_type": "code",
   "execution_count": 5,
   "metadata": {
    "vscode": {
     "languageId": "sage"
    }
   },
   "outputs": [
    {
     "name": "stdout",
     "output_type": "stream",
     "text": [
      "p = 2, n = 0\n",
      "p = 3, n = 0\n",
      "p = 5, n = 0\n",
      "p = 7, n = 0\n",
      "p = 11, n = 0\n",
      "p = 13, n = 0\n",
      "p = 17, n = 0\n",
      "p = 19, n = 0\n",
      "p = 23, n = 0\n",
      "p = 29, n = 0\n",
      "p = 31, n = 0\n",
      "p = 37, n = 0\n",
      "p = 41, n = 0\n",
      "p = 43, n = 0\n",
      "p = 47, n = 0\n",
      "p = 53, n = 0\n",
      "p = 59, n = 0\n",
      "p = 61, n = 0\n",
      "p = 67, n = 0\n",
      "p = 71, n = 0\n",
      "p = 73, n = 0\n",
      "p = 79, n = 0\n",
      "p = 83, n = 0\n",
      "p = 89, n = 0\n",
      "p = 97, n = 0\n",
      "p = 101, n = 0\n",
      "p = 103, n = 0\n",
      "p = 107, n = 0\n",
      "p = 109, n = 0\n",
      "p = 113, n = 0\n",
      "p = 127, n = 0\n",
      "p = 131, n = 0\n",
      "p = 137, n = 0\n",
      "p = 139, n = 0\n",
      "p = 149, n = 0\n",
      "p = 151, n = 0\n",
      "p = 157, n = 0\n",
      "p = 163, n = 0\n",
      "p = 167, n = 0\n",
      "p = 173, n = 0\n",
      "DONE\n"
     ]
    }
   ],
   "source": [
    "from Sequences import Constant_Term_mod\n",
    "\n",
    "primes = Primes()\n",
    "for i in range(40):\n",
    "    p = primes.unrank(i)\n",
    "    F = GF(p)\n",
    "    R.<t> = LaurentPolynomialRing(F, 1)\n",
    "    P = t^-1 + 1 + t\n",
    "    Q = t\n",
    "    found = False\n",
    "    for j in range(p):\n",
    "        if (Constant_Term_mod(P, Q, j, p) == 0):\n",
    "            print(f\"p = {p}, n = {j}\")\n",
    "            found = True\n",
    "            break\n",
    "    if (not found):\n",
    "        print(p)\n",
    "print(\"DONE\")"
   ]
  },
  {
   "cell_type": "code",
   "execution_count": 1,
   "metadata": {
    "vscode": {
     "languageId": "sage"
    }
   },
   "outputs": [
    {
     "name": "stdout",
     "output_type": "stream",
     "text": [
      "p = 2, tight = 1 = 1.00000000000000\n",
      "0.3333333333333334?\n",
      "0.3333333333333334?\n",
      "p = 3, tight = 1/2 = 0.500000000000000\n",
      "1\n",
      "1\n",
      "p = 5, tight = 1/4 = 0.250000000000000\n",
      "[1]\n",
      "[3]\n",
      "[1]\n",
      "1/4\n",
      "[1]\n",
      "[0]\n",
      "[2]\n",
      "1/4\n",
      "p = 7, tight = 1/6 = 0.166666666666667\n",
      "1\n",
      "1\n",
      "p = 11, tight = 1/10 = 0.100000000000000\n",
      "[1]\n",
      "[9]\n",
      "[1]\n",
      "1/10\n",
      "[1]\n",
      "[0]\n",
      "[8]\n",
      "1/10\n",
      "p = 13, tight = 1/12 = 0.0833333333333333\n",
      "[1, 8]\n",
      "[1, 8]\n",
      "[1, 8]\n",
      "1/6\n",
      "[1, 8]\n",
      "[3, 10]\n",
      "[3, 10]\n",
      "1/6\n",
      "p = 17, tight = 1/16 = 0.0625000000000000\n",
      "1\n",
      "1\n",
      "p = 19, tight = 1/18 = 0.0555555555555556\n",
      "1\n",
      "1\n",
      "p = 23, tight = 1/22 = 0.0454545454545455\n",
      "[1]\n",
      "[21]\n",
      "[1]\n",
      "1/22\n",
      "[1]\n",
      "[0]\n",
      "[20]\n",
      "1/22\n",
      "p = 29, tight = 1/28 = 0.0357142857142857\n",
      "[1, 9, 14]\n",
      "[27]\n",
      "[1, 9, 14]\n",
      "11/105\n",
      "[1, 9, 14]\n",
      "[0]\n",
      "[13, 18, 26]\n",
      "11/105\n",
      "p = 31, tight = 1/30 = 0.0333333333333333\n",
      "[1]\n",
      "[1]\n",
      "[1]\n",
      "1/30\n",
      "[1]\n",
      "[28]\n",
      "[28]\n",
      "1/30\n",
      "p = 37, tight = 1/36 = 0.0277777777777778\n",
      "[1]\n",
      "[1]\n",
      "[1]\n",
      "1/36\n",
      "[1]\n",
      "[34]\n",
      "[34]\n",
      "1/36\n",
      "p = 41, tight = 1/40 = 0.0250000000000000\n",
      "1\n",
      "1\n",
      "p = 43, tight = 1/42 = 0.0238095238095238\n",
      "1\n",
      "1\n",
      "p = 47, tight = 1/46 = 0.0217391304347826\n",
      "1\n",
      "1\n",
      "p = 53, tight = 1/52 = 0.0192307692307692\n",
      "[1, 36, 39]\n",
      "[51]\n",
      "[1, 36, 39]\n",
      "20/351\n",
      "[1, 36, 39]\n",
      "[0]\n",
      "[12, 15, 50]\n",
      "20/351\n",
      "p = 59, tight = 1/58 = 0.0172413793103448\n",
      "[1]\n",
      "[14, 22, 27, 29, 34, 42, 57]\n",
      "[1]\n",
      "11/580\n",
      "[1]\n",
      "[0, 15, 23, 28, 30, 35, 43]\n",
      "[56]\n",
      "11/580\n",
      "p = 61, tight = 1/60 = 0.0166666666666667\n",
      "[1]\n",
      "[1]\n",
      "[1]\n",
      "1/60\n",
      "[1]\n",
      "[58]\n",
      "[58]\n",
      "1/60\n",
      "p = 67, tight = 1/66 = 0.0151515151515152\n",
      "[1, 10, 36]\n",
      "[1, 10, 36]\n",
      "[1, 10, 36]\n",
      "1/22\n",
      "[1, 10, 36]\n",
      "[29, 55, 64]\n",
      "[29, 55, 64]\n",
      "1/22\n",
      "p = 71, tight = 1/70 = 0.0142857142857143\n",
      "[1]\n",
      "[69]\n",
      "[1]\n",
      "1/70\n",
      "[1]\n",
      "[0]\n",
      "[68]\n",
      "1/70\n",
      "p = 73, tight = 1/72 = 0.0138888888888889\n",
      "1\n",
      "1\n",
      "p = 79, tight = 1/78 = 0.0128205128205128\n",
      "[1]\n",
      "[1]\n",
      "[1]\n",
      "1/78\n",
      "[1]\n",
      "[76]\n",
      "[76]\n",
      "1/78\n",
      "p = 83, tight = 1/82 = 0.0121951219512195\n",
      "[1]\n",
      "[81]\n",
      "[1]\n",
      "1/82\n",
      "[1]\n",
      "[0]\n",
      "[80]\n",
      "1/82\n",
      "p = 89, tight = 1/88 = 0.0113636363636364\n",
      "[1, 46, 81]\n",
      "[20, 66, 87]\n",
      "[1, 46, 81]\n",
      "3/88\n",
      "[1, 46, 81]\n",
      "[0, 21, 67]\n",
      "[6, 41, 86]\n",
      "3/88\n",
      "p = 97, tight = 1/96 = 0.0104166666666667\n",
      "[1]\n",
      "[1]\n",
      "[1]\n",
      "1/96\n",
      "[1]\n",
      "[94]\n",
      "[94]\n",
      "1/96\n",
      "p = 101, tight = 1/100 = 0.0100000000000000\n",
      "[1]\n",
      "[99]\n",
      "[1]\n",
      "1/100\n",
      "[1]\n",
      "[0]\n",
      "[98]\n",
      "1/100\n",
      "p = 103, tight = 1/102 = 0.00980392156862745\n",
      "[1, 82]\n",
      "[1, 82]\n",
      "[1, 82]\n",
      "1/51\n",
      "[1, 82]\n",
      "[19, 100]\n",
      "[19, 100]\n",
      "1/51\n",
      "p = 107, tight = 1/106 = 0.00943396226415094\n",
      "1\n",
      "1\n"
     ]
    }
   ],
   "source": [
    "import Density\n",
    "\n",
    "primes = Primes()\n",
    "for i in range(28):\n",
    "    p = primes.unrank(i)\n",
    "    R.<t> = LaurentPolynomialRing(GF(p), 1)\n",
    "    P = t^-1 + 1 + t\n",
    "    Q = 1 - t\n",
    "    tight = 1/(p-1)\n",
    "    print(f\"p = {p}, tight = {tight} = {1.0*tight}\")\n",
    "    #print(Density.compute_densities(P, Q, p)[0][0])\n",
    "    print(Density.generic_linear_zero_density_mod(Q, 3, 1, 3, 1, p))\n",
    "    print(Density.generic_linear_zero_density_mod(Q, 1, -1, 1, -1, p))"
   ]
  },
  {
   "cell_type": "code",
   "execution_count": 35,
   "metadata": {
    "vscode": {
     "languageId": "sage"
    }
   },
   "outputs": [
    {
     "name": "stdout",
     "output_type": "stream",
     "text": [
      "a = 1, b = 1, p = 2\n",
      "True\n",
      "a = 1, b = 1, p = 3\n",
      "True\n",
      "a = 1, b = 1, p = 5\n",
      "True\n",
      "a = 1, b = 1, p = 7\n",
      "True\n",
      "a = 1, b = 1, p = 11\n",
      "True\n",
      "a = 1, b = 1, p = 13\n",
      "True\n",
      "a = 1, b = 2, p = 2\n",
      "True\n",
      "a = 1, b = 2, p = 3\n",
      "True\n",
      "a = 1, b = 2, p = 5\n",
      "True\n",
      "a = 1, b = 2, p = 7\n",
      "True\n",
      "a = 1, b = 2, p = 11\n",
      "True\n",
      "a = 1, b = 2, p = 13\n",
      "True\n",
      "a = 1, b = 3, p = 2\n",
      "True\n",
      "a = 1, b = 3, p = 3\n",
      "True\n",
      "a = 1, b = 3, p = 5\n",
      "True\n",
      "a = 1, b = 3, p = 7\n",
      "True\n",
      "a = 1, b = 3, p = 11\n",
      "True\n",
      "a = 1, b = 3, p = 13\n",
      "True\n",
      "a = 1, b = 4, p = 2\n",
      "True\n",
      "a = 1, b = 4, p = 3\n",
      "True\n",
      "a = 1, b = 4, p = 5\n",
      "True\n",
      "a = 1, b = 4, p = 7\n",
      "True\n",
      "a = 1, b = 4, p = 11\n",
      "True\n",
      "a = 1, b = 4, p = 13\n",
      "True\n",
      "a = 1, b = 5, p = 2\n",
      "True\n",
      "a = 1, b = 5, p = 3\n",
      "True\n",
      "a = 1, b = 5, p = 5\n",
      "True\n",
      "a = 1, b = 5, p = 7\n",
      "True\n",
      "a = 1, b = 5, p = 11\n",
      "True\n",
      "a = 1, b = 5, p = 13\n",
      "True\n",
      "a = 2, b = 1, p = 2\n",
      "True\n",
      "a = 2, b = 1, p = 3\n",
      "True\n",
      "a = 2, b = 1, p = 5\n",
      "True\n",
      "a = 2, b = 1, p = 7\n",
      "True\n",
      "a = 2, b = 1, p = 11\n",
      "True\n",
      "a = 2, b = 1, p = 13\n",
      "True\n",
      "a = 2, b = 3, p = 2\n",
      "True\n",
      "a = 2, b = 3, p = 3\n",
      "True\n",
      "a = 2, b = 3, p = 5\n",
      "True\n",
      "a = 2, b = 3, p = 7\n",
      "True\n",
      "a = 2, b = 3, p = 11\n",
      "True\n",
      "a = 2, b = 3, p = 13\n",
      "True\n",
      "a = 2, b = 5, p = 2\n",
      "True\n",
      "a = 2, b = 5, p = 3\n",
      "True\n",
      "a = 2, b = 5, p = 5\n",
      "True\n",
      "a = 2, b = 5, p = 7\n",
      "True\n",
      "a = 2, b = 5, p = 11\n",
      "True\n",
      "a = 2, b = 5, p = 13\n",
      "True\n",
      "a = 3, b = 1, p = 2\n",
      "True\n",
      "a = 3, b = 1, p = 3\n",
      "True\n",
      "a = 3, b = 1, p = 5\n",
      "True\n",
      "a = 3, b = 1, p = 7\n",
      "True\n",
      "a = 3, b = 1, p = 11\n",
      "True\n",
      "a = 3, b = 1, p = 13\n",
      "True\n",
      "a = 3, b = 2, p = 2\n",
      "True\n",
      "a = 3, b = 2, p = 3\n",
      "True\n",
      "a = 3, b = 2, p = 5\n",
      "True\n",
      "a = 3, b = 2, p = 7\n",
      "True\n",
      "a = 3, b = 2, p = 11\n",
      "True\n",
      "a = 3, b = 2, p = 13\n",
      "True\n",
      "a = 3, b = 4, p = 2\n",
      "True\n",
      "a = 3, b = 4, p = 3\n",
      "True\n",
      "a = 3, b = 4, p = 5\n",
      "True\n",
      "a = 3, b = 4, p = 7\n",
      "True\n",
      "a = 3, b = 4, p = 11\n",
      "True\n",
      "a = 3, b = 4, p = 13\n",
      "True\n",
      "a = 3, b = 5, p = 2\n",
      "True\n",
      "a = 3, b = 5, p = 3\n",
      "True\n",
      "a = 3, b = 5, p = 5\n",
      "True\n",
      "a = 3, b = 5, p = 7\n",
      "True\n",
      "a = 3, b = 5, p = 11\n",
      "True\n",
      "a = 3, b = 5, p = 13\n",
      "True\n",
      "a = 4, b = 1, p = 2\n",
      "True\n",
      "a = 4, b = 1, p = 3\n",
      "True\n",
      "a = 4, b = 1, p = 5\n",
      "True\n",
      "a = 4, b = 1, p = 7\n",
      "True\n",
      "a = 4, b = 1, p = 11\n",
      "True\n",
      "a = 4, b = 1, p = 13\n",
      "True\n",
      "a = 4, b = 3, p = 2\n",
      "True\n",
      "a = 4, b = 3, p = 3\n",
      "True\n",
      "a = 4, b = 3, p = 5\n",
      "True\n",
      "a = 4, b = 3, p = 7\n",
      "True\n",
      "a = 4, b = 3, p = 11\n",
      "True\n",
      "a = 4, b = 3, p = 13\n",
      "True\n",
      "a = 4, b = 5, p = 2\n",
      "True\n",
      "a = 4, b = 5, p = 3\n",
      "True\n",
      "a = 4, b = 5, p = 5\n",
      "True\n",
      "a = 4, b = 5, p = 7\n",
      "True\n",
      "a = 4, b = 5, p = 11\n",
      "True\n",
      "a = 4, b = 5, p = 13\n",
      "True\n",
      "a = 5, b = 1, p = 2\n",
      "True\n",
      "a = 5, b = 1, p = 3\n",
      "True\n",
      "a = 5, b = 1, p = 5\n",
      "True\n",
      "a = 5, b = 1, p = 7\n",
      "True\n",
      "a = 5, b = 1, p = 11\n",
      "True\n",
      "a = 5, b = 1, p = 13\n",
      "True\n",
      "a = 5, b = 2, p = 2\n",
      "True\n",
      "a = 5, b = 2, p = 3\n",
      "True\n",
      "a = 5, b = 2, p = 5\n",
      "True\n",
      "a = 5, b = 2, p = 7\n",
      "True\n",
      "a = 5, b = 2, p = 11\n",
      "True\n",
      "a = 5, b = 2, p = 13\n",
      "True\n",
      "a = 5, b = 3, p = 2\n",
      "True\n",
      "a = 5, b = 3, p = 3\n",
      "True\n",
      "a = 5, b = 3, p = 5\n",
      "True\n",
      "a = 5, b = 3, p = 7\n",
      "True\n",
      "a = 5, b = 3, p = 11\n",
      "True\n",
      "a = 5, b = 3, p = 13\n",
      "True\n",
      "a = 5, b = 4, p = 2\n",
      "True\n",
      "a = 5, b = 4, p = 3\n",
      "True\n",
      "a = 5, b = 4, p = 5\n",
      "True\n",
      "a = 5, b = 4, p = 7\n",
      "True\n",
      "a = 5, b = 4, p = 11\n",
      "True\n",
      "a = 5, b = 4, p = 13\n",
      "True\n"
     ]
    }
   ],
   "source": [
    "import Density\n",
    "\n",
    "primes = Primes()\n",
    "for a in range(1, 6):\n",
    "    for b in range(1, 6):\n",
    "        if (gcd(a, b) == 1):\n",
    "            for i in range(6):\n",
    "                p = primes.unrank(i)\n",
    "                R.<t> = LaurentPolynomialRing(GF(p), 1)\n",
    "                P = a*t^-1 + b + a*t\n",
    "                Q = 1 - t^2\n",
    "                print(f\"a = {a}, b = {b}, p = {p}\")\n",
    "                print(Density.compute_densities(P, Q, p)[0][0] == Density.general_motzkin_zero_density_mod(a, b, p))"
   ]
  },
  {
   "cell_type": "code",
   "execution_count": 36,
   "metadata": {
    "vscode": {
     "languageId": "sage"
    }
   },
   "outputs": [],
   "source": [
    "import Sequences\n",
    "p = 7\n",
    "R.<t> = LaurentPolynomialRing(ZZ, 1)\n",
    "P = a*t^-1 + b + a*t\n",
    "Q = 1 - t^2\n",
    "for i in range(100):\n",
    "    if(Sequences.Constant_Term(P, Q, i) != Sequences.General_Motzkin(a, b, i)):\n",
    "        print(i)"
   ]
  }
 ],
 "metadata": {
  "kernelspec": {
   "display_name": "SageMath 9.5",
   "language": "sage",
   "name": "SageMath-9.5"
  },
  "language_info": {
   "codemirror_mode": {
    "name": "ipython",
    "version": 3
   },
   "file_extension": ".py",
   "mimetype": "text/x-python",
   "name": "python",
   "nbconvert_exporter": "python",
   "pygments_lexer": "ipython3",
   "version": "3.9.9"
  }
 },
 "nbformat": 4,
 "nbformat_minor": 2
}
