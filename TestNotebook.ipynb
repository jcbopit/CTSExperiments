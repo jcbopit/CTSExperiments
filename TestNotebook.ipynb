{
 "cells": [
  {
   "cell_type": "code",
   "execution_count": 1,
   "metadata": {
    "vscode": {
     "languageId": "sage"
    }
   },
   "outputs": [
    {
     "data": {
      "text/plain": [
       "-t^3 + t"
      ]
     },
     "execution_count": 1,
     "metadata": {},
     "output_type": "execute_result"
    }
   ],
   "source": [
    "import DFA\n",
    "\n",
    "p=3\n",
    "R.<t> = LaurentPolynomialRing(GF(p), 1)\n",
    "\n",
    "DFA.Lambda(t + t^2 + t^3 + 2*t^9, p)"
   ]
  },
  {
   "cell_type": "code",
   "execution_count": 2,
   "metadata": {
    "vscode": {
     "languageId": "sage"
    }
   },
   "outputs": [
    {
     "data": {
      "text/plain": [
       "2"
      ]
     },
     "execution_count": 2,
     "metadata": {},
     "output_type": "execute_result"
    }
   ],
   "source": [
    "import PolyUtil\n",
    "\n",
    "PolyUtil.get_coefficient(t + 2*t^-2, -2)"
   ]
  },
  {
   "cell_type": "code",
   "execution_count": 3,
   "metadata": {
    "vscode": {
     "languageId": "sage"
    }
   },
   "outputs": [
    {
     "name": "stdout",
     "output_type": "stream",
     "text": [
      "[0 2 0 0 0 1 0 0 0]\n",
      "[0 2 0 0 0 1 0 0 0]\n"
     ]
    }
   ],
   "source": [
    "import LinRep\n",
    "def poly_to_vec_2(poly, max_deg):\n",
    "    return Matrix(1, 2*max_deg + 1, lambda _, i : LinRep.get_coefficient(poly, i-max_deg))\n",
    "\n",
    "print(poly_to_vec_2(t + 2*t^(-3), 4))\n",
    "print(LinRep.poly_to_vec(t + 2*t^(-3), 4))"
   ]
  },
  {
   "cell_type": "code",
   "execution_count": 4,
   "metadata": {
    "vscode": {
     "languageId": "sage"
    }
   },
   "outputs": [
    {
     "data": {
      "text/plain": [
       "[0 0 0 0 0 0 0]\n",
       "[0 0 0 0 0 0 0]\n",
       "[0 0 0 0 0 0 0]\n",
       "[0 0 0 1 0 0 0]\n",
       "[0 0 0 2 0 0 0]\n",
       "[0 0 0 0 0 0 0]\n",
       "[0 0 0 0 0 0 0]"
      ]
     },
     "execution_count": 4,
     "metadata": {},
     "output_type": "execute_result"
    }
   ],
   "source": [
    "LinRep.compute_mat_for_poly(1+2*t, 3, 5)"
   ]
  },
  {
   "cell_type": "code",
   "execution_count": 5,
   "metadata": {
    "vscode": {
     "languageId": "sage"
    }
   },
   "outputs": [
    {
     "name": "stdout",
     "output_type": "stream",
     "text": [
      "3\n"
     ]
    }
   ],
   "source": [
    "p=7\n",
    "R.<t> = LaurentPolynomialRing(GF(p), 1)\n",
    "answer = LinRep.compute_shortest_zero(t+1+t^(-1), R(1), p, 10000)\n",
    "print(answer)"
   ]
  },
  {
   "cell_type": "code",
   "execution_count": 6,
   "metadata": {
    "vscode": {
     "languageId": "sage"
    }
   },
   "outputs": [
    {
     "name": "stdout",
     "output_type": "stream",
     "text": [
      "1\n",
      "1\n",
      "3\n",
      "0\n"
     ]
    }
   ],
   "source": [
    "import Sequences\n",
    "if (answer == None):\n",
    "    answer = p-1\n",
    "for i in range(answer + 1):\n",
    "    print(Sequences.Central_Trinomial_mod(i,p))"
   ]
  },
  {
   "cell_type": "code",
   "execution_count": 7,
   "metadata": {
    "vscode": {
     "languageId": "sage"
    }
   },
   "outputs": [
    {
     "data": {
      "text/plain": [
       "[0.10000000000000000?         0.090000000?         0.090000000?         0.090000000?         0.090000000?         0.090000000?         0.090000000?         0.090000000?         0.090000000?         0.090000000?         0.090000000?]"
      ]
     },
     "execution_count": 7,
     "metadata": {},
     "output_type": "execute_result"
    }
   ],
   "source": [
    "import Density\n",
    "\n",
    "p = 11\n",
    "R.<t> = LaurentPolynomialRing(GF(p), 1)\n",
    "\n",
    "Density.compute_densities(3*t + 5 + t^(-1), 1-t^2, p)"
   ]
  },
  {
   "cell_type": "code",
   "execution_count": 8,
   "metadata": {
    "vscode": {
     "languageId": "sage"
    }
   },
   "outputs": [
    {
     "data": {
      "text/plain": [
       "[[1, 0, 0],\n",
       " [1, 1, 0, 0],\n",
       " [1, 0, 1, 0, 0],\n",
       " [1, 0, 1, 1, 0, 0],\n",
       " [1, 0, 0, 0, 1, 0, 0],\n",
       " [1, 1, 0, 1, 1, 1, 0, 0],\n",
       " [1, 0, 0, 0, 1, 0, 1, 0, 0],\n",
       " [1, 1, 0, 1, 1, 0, 1, 1, 0, 0],\n",
       " [1, 0, 0, 0, 0, 0, 0, 0, 1, 0, 0],\n",
       " [1, 1, 0, 0, 0, 0, 0, 1, 1, 1, 0, 0]]"
      ]
     },
     "execution_count": 8,
     "metadata": {},
     "output_type": "execute_result"
    }
   ],
   "source": [
    "triangle = [[1,0,0]]\n",
    "for i in range(1, 10):\n",
    "    row = [1]\n",
    "    for j in range(1, i+1):\n",
    "        row.append((triangle[i-1][j-1] + triangle[i-1][j] + triangle[i-1][j+1]) % 2)\n",
    "    row.append(0)\n",
    "    row.append(0)\n",
    "    triangle.append(row)\n",
    "triangle"
   ]
  },
  {
   "cell_type": "code",
   "execution_count": 9,
   "metadata": {
    "vscode": {
     "languageId": "sage"
    }
   },
   "outputs": [
    {
     "data": {
      "text/plain": [
       "([[0, 0, 0, 0, 0, 0, 1, 0, 0, 0],\n",
       "  [0, 0, 0, 0, 1, 1, 1, 1, 0, 0],\n",
       "  [0, 0, 1, 2, 3, 4, 3, 2, 1, 0],\n",
       "  [1, 3, 6, 10, 12, 12, 10, 6, 3, 1]],\n",
       " 6)"
      ]
     },
     "execution_count": 9,
     "metadata": {},
     "output_type": "execute_result"
    }
   ],
   "source": [
    "import Transforms\n",
    "p = 41\n",
    "R.<t> = LaurentPolynomialRing(GF(p), 1)\n",
    "P = t^-2 + t^-1 + 1 + t\n",
    "\n",
    "PolyUtil.compute_triangle(P, p, 4)"
   ]
  },
  {
   "cell_type": "code",
   "execution_count": 10,
   "metadata": {
    "vscode": {
     "languageId": "sage"
    }
   },
   "outputs": [
    {
     "data": {
      "text/plain": [
       "[0, 1, 1, 1, 1, 0, 1, 0, 1, 1, 0, 1]"
      ]
     },
     "execution_count": 10,
     "metadata": {},
     "output_type": "execute_result"
    }
   ],
   "source": [
    "p = 2\n",
    "R.<t> = LaurentPolynomialRing(GF(p), 1)\n",
    "P = t^-1 + 1 + t + t^2\n",
    "Transforms.transform([0,1,1,0,1,0,0,1,1,0,0,1], P, p)"
   ]
  },
  {
   "cell_type": "code",
   "execution_count": 11,
   "metadata": {
    "vscode": {
     "languageId": "sage"
    }
   },
   "outputs": [
    {
     "data": {
      "text/plain": [
       "[0, 1, 1, 0, 1, 0, 0, 1, 1, 0, 0, 1]"
      ]
     },
     "execution_count": 11,
     "metadata": {},
     "output_type": "execute_result"
    }
   ],
   "source": [
    "Transforms.transform_inverse([0, 1, 1, 1, 1, 0, 1, 0, 1, 1, 0, 1], P, p)"
   ]
  },
  {
   "cell_type": "code",
   "execution_count": 12,
   "metadata": {
    "vscode": {
     "languageId": "sage"
    }
   },
   "outputs": [
    {
     "data": {
      "text/plain": [
       "([[0, 1, 1, 0, 1, 0, 0, 0, 1, 0, 0, 1], [1, 1, 1, 1, 1]],\n",
       " [[(0, 0), (1, 1)], [(0, 1), (1, 0)]],\n",
       " <function DFA_guess.<locals>.output_func at 0x12fbff700>)"
      ]
     },
     "execution_count": 12,
     "metadata": {},
     "output_type": "execute_result"
    }
   ],
   "source": [
    "p = 2\n",
    "P = t^-1 + 1 + t^2 + t^3\n",
    "seq = [0,1,1,0,1,0,0,1,1,0,0,1]\n",
    "Transforms.DFA_guess(seq, P, p)"
   ]
  },
  {
   "cell_type": "code",
   "execution_count": 16,
   "metadata": {
    "vscode": {
     "languageId": "sage"
    }
   },
   "outputs": [
    {
     "data": {
      "text/plain": [
       "'lsd_3\\n\\n0 1\\n0 -> 1\\n1 -> 2\\n2 -> 3\\n\\n1 1\\n0 -> 1\\n1 -> 1\\n2 -> 4\\n\\n2 1\\n0 -> 1\\n1 -> 4\\n2 -> 2\\n\\n3 2\\n0 -> 5\\n1 -> 4\\n2 -> 3\\n\\n4 0\\n0 -> 4\\n1 -> 4\\n2 -> 4\\n\\n5 2\\n0 -> 5\\n1 -> 5\\n2 -> 4\\n\\n'"
      ]
     },
     "execution_count": 16,
     "metadata": {},
     "output_type": "execute_result"
    }
   ],
   "source": [
    "import Sequences\n",
    "p = 3\n",
    "R.<t> = LaurentPolynomialRing(GF(p), 1)\n",
    "P = t^-1 + 1\n",
    "seq = [Sequences.Constant_Term_mod(t^-1 + 1 + t, 1 - t^2, n, p) for n in range(100)]\n",
    "s_guess = DFA.serialize(Transforms.DFA_guess(seq, P, p), p)\n",
    "s_guess"
   ]
  },
  {
   "cell_type": "code",
   "execution_count": 17,
   "metadata": {
    "vscode": {
     "languageId": "sage"
    }
   },
   "outputs": [
    {
     "name": "stdout",
     "output_type": "stream",
     "text": [
      "True\n"
     ]
    }
   ],
   "source": [
    "import DFA\n",
    "machine = DFA.PolyAuto(t^-1 + 1 + t, 1-t^2, p, 10000)\n",
    "s_real = DFA.serialize(machine, p)\n",
    "\n",
    "print(s_guess == s_real)"
   ]
  },
  {
   "cell_type": "code",
   "execution_count": 15,
   "metadata": {
    "vscode": {
     "languageId": "sage"
    }
   },
   "outputs": [
    {
     "name": "stdout",
     "output_type": "stream",
     "text": [
      "lsd_2\n",
      "\n",
      "0 0\n",
      "0 -> 0\n",
      "1 -> 1\n",
      "\n",
      "1 1\n",
      "0 -> 1\n",
      "1 -> 0\n",
      "\n",
      "\n"
     ]
    }
   ],
   "source": [
    "p = 2\n",
    "R.<t> = LaurentPolynomialRing(GF(p), 1)\n",
    "machine = Transforms.DFA_guess(\"011010011001011010010110011010011001011001101001011\", t^-1 + 1, 2)\n",
    "print(Transforms.DFA_guess_serialize(machine, 2))"
   ]
  },
  {
   "cell_type": "code",
   "execution_count": null,
   "metadata": {
    "vscode": {
     "languageId": "sage"
    }
   },
   "outputs": [],
   "source": []
  }
 ],
 "metadata": {
  "kernelspec": {
   "display_name": "SageMath 9.5",
   "language": "sage",
   "name": "SageMath-9.5"
  },
  "language_info": {
   "codemirror_mode": {
    "name": "ipython",
    "version": 3
   },
   "file_extension": ".py",
   "mimetype": "text/x-python",
   "name": "python",
   "nbconvert_exporter": "python",
   "pygments_lexer": "ipython3",
   "version": "3.9.9"
  }
 },
 "nbformat": 4,
 "nbformat_minor": 2
}
