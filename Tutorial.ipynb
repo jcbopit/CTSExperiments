{
 "cells": [
  {
   "cell_type": "markdown",
   "metadata": {},
   "source": [
    "# Constant Term Sequence Library Tutorial\n",
    "Welcome! In this file we will demonstrate the functionality provided by this library.\n",
    "\n",
    "## Importing Functions\n",
    "This library is implemented in Sage (originally written in Sage 9.5). In order to use this library, you should have Sage installed. In order to call functions from this library from your sage code, you will have to run the command\n",
    "```sh sage_to_py.sh```\n",
    "in this directory which will generate various `*.py` files which you should have present in the directory containing your sage file. Furthermore, you will need to `import [File_Name]` in your sage file and subsequently calls to functions will have the form `[File_Name].[function_name]`."
   ]
  },
  {
   "cell_type": "markdown",
   "metadata": {},
   "source": [
    "## PolyUtil.sage\n",
    "This file contains a few utilities for working with Laurent polynomials in Sage when studying constant term sequences."
   ]
  },
  {
   "cell_type": "markdown",
   "metadata": {},
   "source": [
    "### `get_coefficient(poly, exponent)`\n",
    "This function simply returns the coefficient in `poly` corresponding to the given `exponent`."
   ]
  },
  {
   "cell_type": "code",
   "execution_count": 4,
   "metadata": {
    "vscode": {
     "languageId": "sage"
    }
   },
   "outputs": [
    {
     "name": "stdout",
     "output_type": "stream",
     "text": [
      "1\n",
      "2\n",
      "3\n",
      "4\n",
      "5\n"
     ]
    }
   ],
   "source": [
    "import PolyUtil\n",
    "R.<t> = LaurentPolynomialRing(ZZ, 1)\n",
    "polynomial = t^-3 + 2*t^-2 + 3*t^-1 + 4 + 5*t\n",
    "print(PolyUtil.get_coefficient(polynomial, -3))\n",
    "print(PolyUtil.get_coefficient(polynomial, -2))\n",
    "print(PolyUtil.get_coefficient(polynomial, -1))\n",
    "print(PolyUtil.get_coefficient(polynomial, 0))\n",
    "print(PolyUtil.get_coefficient(polynomial, 1))"
   ]
  },
  {
   "cell_type": "markdown",
   "metadata": {},
   "source": [
    "### `compute_triangle(P, p, num_rows)`\n",
    "This function computes the triangle made up of coefficients modulo `p` of the first `num_rows` powers of `P`. Alongside the array containing this number triangle, this function also returns the index of the column corresponding to the constant term."
   ]
  },
  {
   "cell_type": "code",
   "execution_count": 9,
   "metadata": {
    "vscode": {
     "languageId": "sage"
    }
   },
   "outputs": [
    {
     "name": "stdout",
     "output_type": "stream",
     "text": [
      "Constant term index: 6\n",
      "[ 0  0  0  0  0  0  1  0  0  0]\n",
      "[ 0  0  0  0  1  1  1  1  0  0]\n",
      "[ 0  0  1  2  3  4  3  2  1  0]\n",
      "[ 1  3  6 10 12 12 10  6  3  1]\n"
     ]
    }
   ],
   "source": [
    "import PolyUtil\n",
    "p = 41\n",
    "R.<t> = LaurentPolynomialRing(GF(p), 1)\n",
    "P = t^-2 + t^-1 + 1 + t\n",
    "\n",
    "(triangle, constant_term_index) = PolyUtil.compute_triangle(P, p, 4)\n",
    "print(f\"Constant term index: {constant_term_index}\")\n",
    "print(Matrix(triangle))"
   ]
  },
  {
   "cell_type": "markdown",
   "metadata": {},
   "source": [
    "### `Lambda(P, p)`\n",
    "This function takes the polynomial `P` and first deletes all terms whose exponents are not multiples of `p`; the result is a polynomial in `t^p`. Then, this function does a change of variables of `t^p -> t` and returns the result."
   ]
  },
  {
   "cell_type": "code",
   "execution_count": 16,
   "metadata": {
    "vscode": {
     "languageId": "sage"
    }
   },
   "outputs": [
    {
     "data": {
      "text/plain": [
       "2*t^5 + 3*t^3 + t"
      ]
     },
     "execution_count": 16,
     "metadata": {},
     "output_type": "execute_result"
    }
   ],
   "source": [
    "import PolyUtil\n",
    "p=5\n",
    "R.<t> = LaurentPolynomialRing(GF(p), 1)\n",
    "\n",
    "PolyUtil.Lambda(2*t^25 + 3*t^15 + 4*t^14 + t^5 + t^2 + t, p)"
   ]
  },
  {
   "cell_type": "markdown",
   "metadata": {},
   "source": [
    "## Sequences.sage\n"
   ]
  },
  {
   "cell_type": "markdown",
   "metadata": {},
   "source": [
    "## Transforms.sage"
   ]
  },
  {
   "cell_type": "markdown",
   "metadata": {},
   "source": [
    "## DFA.sage"
   ]
  },
  {
   "cell_type": "markdown",
   "metadata": {},
   "source": [
    "## LinRep.sage"
   ]
  },
  {
   "cell_type": "markdown",
   "metadata": {},
   "source": [
    "## Density.sage"
   ]
  }
 ],
 "metadata": {
  "kernelspec": {
   "display_name": "SageMath 9.5",
   "language": "sage",
   "name": "SageMath-9.5"
  },
  "language_info": {
   "codemirror_mode": {
    "name": "ipython",
    "version": 3
   },
   "file_extension": ".py",
   "mimetype": "text/x-python",
   "name": "python",
   "nbconvert_exporter": "python",
   "pygments_lexer": "ipython3",
   "version": "3.9.9"
  }
 },
 "nbformat": 4,
 "nbformat_minor": 2
}
