{
 "cells": [
  {
   "cell_type": "markdown",
   "metadata": {},
   "source": [
    "# Constant Term Sequence Library Tutorial\n",
    "Welcome! In this file we will demonstrate the functionality provided by this library.\n",
    "\n",
    "## Importing Functions\n",
    "This library is implemented in Sage (originally written in Sage 9.5). In order to use this library, you should have Sage installed. In order to call functions from this library from your sage code, you will have to run the command\n",
    "```sh ./sage_to_py.sh```\n",
    "in this directory which will generate various `*.py` files which you should have present in the directory containing your sage file. Furthermore, you will need to `import [File_Name]` in your sage file and subsequently calls to functions will have the form `[File_Name].[function_name]`."
   ]
  },
  {
   "cell_type": "markdown",
   "metadata": {},
   "source": [
    "## PolyUtil.sage\n",
    "This file contains a few utilities for working with Laurent polynomials in Sage when studying constant term sequences."
   ]
  },
  {
   "cell_type": "markdown",
   "metadata": {},
   "source": [
    "### `get_coefficient(poly, exponent)`\n",
    "This function simply returns the coefficient in `poly` corresponding to the given `exponent`."
   ]
  },
  {
   "cell_type": "code",
   "execution_count": 4,
   "metadata": {
    "vscode": {
     "languageId": "sage"
    }
   },
   "outputs": [
    {
     "name": "stdout",
     "output_type": "stream",
     "text": [
      "1\n",
      "2\n",
      "3\n",
      "4\n",
      "5\n"
     ]
    }
   ],
   "source": [
    "import PolyUtil\n",
    "R.<t> = LaurentPolynomialRing(ZZ, 1)\n",
    "polynomial = t^-3 + 2*t^-2 + 3*t^-1 + 4 + 5*t\n",
    "print(PolyUtil.get_coefficient(polynomial, -3))\n",
    "print(PolyUtil.get_coefficient(polynomial, -2))\n",
    "print(PolyUtil.get_coefficient(polynomial, -1))\n",
    "print(PolyUtil.get_coefficient(polynomial, 0))\n",
    "print(PolyUtil.get_coefficient(polynomial, 1))"
   ]
  },
  {
   "cell_type": "markdown",
   "metadata": {},
   "source": [
    "### `compute_triangle(P, p, num_rows)`\n",
    "This function computes the triangle made up of coefficients modulo `p` of the first `num_rows` powers of `P`. Alongside the array containing this number triangle, this function also returns the index of the column corresponding to the constant term."
   ]
  },
  {
   "cell_type": "code",
   "execution_count": 11,
   "metadata": {
    "vscode": {
     "languageId": "sage"
    }
   },
   "outputs": [
    {
     "name": "stdout",
     "output_type": "stream",
     "text": [
      "Constant term index: 6\n",
      "\n",
      "[ 0  0  0  0  0  0  1  0  0  0]\n",
      "[ 0  0  0  0  1  0  3  5  0  0]\n",
      "[ 0  0  1  0  6 10  9 30 25  0]\n",
      "[ 1  0  9 15 27  8 20 12 20  2]\n"
     ]
    }
   ],
   "source": [
    "import PolyUtil\n",
    "p = 41\n",
    "R.<t> = LaurentPolynomialRing(GF(p), 1)\n",
    "P = t^-2 + 3 + 5*t\n",
    "\n",
    "(triangle, constant_term_index) = PolyUtil.compute_triangle(P, p, 4)\n",
    "print(f\"Constant term index: {constant_term_index}\\n\")\n",
    "print(Matrix(triangle))"
   ]
  },
  {
   "cell_type": "markdown",
   "metadata": {},
   "source": [
    "### `Lambda(P, p)`\n",
    "This function takes the polynomial `P` and first deletes all terms whose exponents are not multiples of `p`; the result is a polynomial in `t^p`. Then, this function does a change of variables of `t^p -> t` and returns the result."
   ]
  },
  {
   "cell_type": "code",
   "execution_count": 16,
   "metadata": {
    "vscode": {
     "languageId": "sage"
    }
   },
   "outputs": [
    {
     "data": {
      "text/plain": [
       "2*t^5 + 3*t^3 + t"
      ]
     },
     "execution_count": 16,
     "metadata": {},
     "output_type": "execute_result"
    }
   ],
   "source": [
    "import PolyUtil\n",
    "p=5\n",
    "R.<t> = LaurentPolynomialRing(GF(p), 1)\n",
    "\n",
    "PolyUtil.Lambda(2*t^25 + 3*t^15 + 4*t^14 + t^5 + t^2 + t, p)"
   ]
  },
  {
   "cell_type": "markdown",
   "metadata": {},
   "source": [
    "## Sequences.sage\n",
    "This file contains utility functions for computing constant term sequences in general, as well as efficient functions computing generalized central trinomial coefficients and generalized motzkin numbers."
   ]
  },
  {
   "cell_type": "markdown",
   "metadata": {},
   "source": [
    "### `Constant_Term(P, Q, n)`\n",
    "This function computes the constant term of the Laurent polynomial `(P^n)*Q`."
   ]
  },
  {
   "cell_type": "code",
   "execution_count": 20,
   "metadata": {
    "vscode": {
     "languageId": "sage"
    }
   },
   "outputs": [
    {
     "data": {
      "text/plain": [
       "[1, 1, 2, 4, 9]"
      ]
     },
     "execution_count": 20,
     "metadata": {},
     "output_type": "execute_result"
    }
   ],
   "source": [
    "import Sequences\n",
    "R.<t> = LaurentPolynomialRing(ZZ, 1)\n",
    "P = t^-1 + 1 + t\n",
    "Q = 1 - t^2\n",
    "seq = []\n",
    "for i in range(5):\n",
    "    seq.append(Sequences.Constant_Term(P, Q, i))\n",
    "\n",
    "seq"
   ]
  },
  {
   "cell_type": "markdown",
   "metadata": {},
   "source": [
    "### `Constant_Term_mod(P, Q, n, p)`\n",
    "This function computes the constant term modulo `p` of the Laurent polynomial `(P^n)*Q`."
   ]
  },
  {
   "cell_type": "code",
   "execution_count": 27,
   "metadata": {
    "vscode": {
     "languageId": "sage"
    }
   },
   "outputs": [
    {
     "data": {
      "text/plain": [
       "[1, 1, 2, 4, 4]"
      ]
     },
     "execution_count": 27,
     "metadata": {},
     "output_type": "execute_result"
    }
   ],
   "source": [
    "import Sequences\n",
    "R.<t> = LaurentPolynomialRing(ZZ, 1)\n",
    "P = t^-1 + 1 + t\n",
    "Q = 1 - t^2\n",
    "p = 5\n",
    "seq = []\n",
    "for i in range(5):\n",
    "    seq.append(Sequences.Constant_Term_mod(P, Q, i, p))\n",
    "\n",
    "seq"
   ]
  },
  {
   "cell_type": "markdown",
   "metadata": {},
   "source": [
    "### `Motzkin(n)`\n",
    "This function efficiently computes the `n`th [Motzkin number](https://oeis.org/A001006)."
   ]
  },
  {
   "cell_type": "code",
   "execution_count": 22,
   "metadata": {
    "vscode": {
     "languageId": "sage"
    }
   },
   "outputs": [
    {
     "data": {
      "text/plain": [
       "[1, 1, 2, 4, 9]"
      ]
     },
     "execution_count": 22,
     "metadata": {},
     "output_type": "execute_result"
    }
   ],
   "source": [
    "import Sequences\n",
    "seq = []\n",
    "for i in range(5):\n",
    "    seq.append(Sequences.Motzkin(i))\n",
    "\n",
    "seq"
   ]
  },
  {
   "cell_type": "markdown",
   "metadata": {},
   "source": [
    "### `Motzkin_mod(n, p)`\n",
    "This function efficiently computes the `n`th [Motzkin number](https://oeis.org/A001006) modulo `p`."
   ]
  },
  {
   "cell_type": "code",
   "execution_count": 28,
   "metadata": {
    "vscode": {
     "languageId": "sage"
    }
   },
   "outputs": [
    {
     "data": {
      "text/plain": [
       "[1, 1, 2, 4, 4]"
      ]
     },
     "execution_count": 28,
     "metadata": {},
     "output_type": "execute_result"
    }
   ],
   "source": [
    "import Sequences\n",
    "seq = []\n",
    "p = 5\n",
    "for i in range(5):\n",
    "    seq.append(Sequences.Motzkin_mod(i, p))\n",
    "\n",
    "seq"
   ]
  },
  {
   "cell_type": "markdown",
   "metadata": {},
   "source": [
    "### `Central_Trinomial(n)`\n",
    "This function efficiently computes the `n`th [central trinomial coefficient](https://oeis.org/A002426)."
   ]
  },
  {
   "cell_type": "code",
   "execution_count": 23,
   "metadata": {
    "vscode": {
     "languageId": "sage"
    }
   },
   "outputs": [
    {
     "data": {
      "text/plain": [
       "[1, 1, 3, 7, 19]"
      ]
     },
     "execution_count": 23,
     "metadata": {},
     "output_type": "execute_result"
    }
   ],
   "source": [
    "import Sequences\n",
    "seq = []\n",
    "for i in range(5):\n",
    "    seq.append(Sequences.Central_Trinomial(i))\n",
    "\n",
    "seq"
   ]
  },
  {
   "cell_type": "markdown",
   "metadata": {},
   "source": [
    "### `Central_Trinomial_mod(n, p)`\n",
    "This function efficiently computes the `n`th [central trinomial coefficient](https://oeis.org/A002426) modulo `p`."
   ]
  },
  {
   "cell_type": "code",
   "execution_count": 29,
   "metadata": {
    "vscode": {
     "languageId": "sage"
    }
   },
   "outputs": [
    {
     "data": {
      "text/plain": [
       "[1, 1, 3, 2, 4]"
      ]
     },
     "execution_count": 29,
     "metadata": {},
     "output_type": "execute_result"
    }
   ],
   "source": [
    "import Sequences\n",
    "seq = []\n",
    "p = 5\n",
    "for i in range(5):\n",
    "    seq.append(Sequences.Central_Trinomial_mod(i, p))\n",
    "\n",
    "seq"
   ]
  },
  {
   "cell_type": "markdown",
   "metadata": {},
   "source": [
    "### `General_Central_Trinomial(a, b, n)`\n",
    "This function efficiently computes the `n`th generalized central trinomial coefficient. I.e., it computes the constant term of `(a*t^-1 + b + a*t)^n`."
   ]
  },
  {
   "cell_type": "code",
   "execution_count": 25,
   "metadata": {
    "vscode": {
     "languageId": "sage"
    }
   },
   "outputs": [
    {
     "data": {
      "text/plain": [
       "[1, 2, 6, 20, 70]"
      ]
     },
     "execution_count": 25,
     "metadata": {},
     "output_type": "execute_result"
    }
   ],
   "source": [
    "import Sequences\n",
    "a = 1\n",
    "b = 2\n",
    "seq = []\n",
    "for i in range(5):\n",
    "    seq.append(Sequences.General_Central_Trinomial(a, b, i))\n",
    "\n",
    "seq"
   ]
  },
  {
   "cell_type": "markdown",
   "metadata": {},
   "source": [
    "### `General_Central_Trinomial_mod(a, b, n, p)`\n",
    "This function efficiently computes the `n`th generalized central trinomial coefficient. I.e., it computes the constant term of `(a*t^-1 + b + a*t)^n` modulo `p`."
   ]
  },
  {
   "cell_type": "code",
   "execution_count": 30,
   "metadata": {
    "vscode": {
     "languageId": "sage"
    }
   },
   "outputs": [
    {
     "data": {
      "text/plain": [
       "[1, 2, 1, 0, 0]"
      ]
     },
     "execution_count": 30,
     "metadata": {},
     "output_type": "execute_result"
    }
   ],
   "source": [
    "import Sequences\n",
    "a = 1\n",
    "b = 2\n",
    "p = 5\n",
    "seq = []\n",
    "for i in range(5):\n",
    "    seq.append(Sequences.General_Central_Trinomial_mod(a, b, i, p))\n",
    "\n",
    "seq"
   ]
  },
  {
   "cell_type": "markdown",
   "metadata": {},
   "source": [
    "### `General_Motzkin(a, b, n)`\n",
    "This function efficiently computes the `n`th generalized Motzkin number. I.e., it computes the constant term of `(1-t^2)*(a*t^-1 + b + a*t)^n`."
   ]
  },
  {
   "cell_type": "code",
   "execution_count": 26,
   "metadata": {
    "vscode": {
     "languageId": "sage"
    }
   },
   "outputs": [
    {
     "data": {
      "text/plain": [
       "[1, 2, 5, 14, 42]"
      ]
     },
     "execution_count": 26,
     "metadata": {},
     "output_type": "execute_result"
    }
   ],
   "source": [
    "import Sequences\n",
    "a = 1\n",
    "b = 2\n",
    "seq = []\n",
    "for i in range(5):\n",
    "    seq.append(Sequences.General_Motzkin(a, b, i))\n",
    "\n",
    "seq"
   ]
  },
  {
   "cell_type": "markdown",
   "metadata": {},
   "source": [
    "### `General_Motzkin_mod(a, b, n, p)`\n",
    "This function efficiently computes the `n`th generalized Motzkin number modulo `p`. I.e., it computes the constant term of `(1-t^2)*(a*t^-1 + b + a*t)^n` modulo `p`."
   ]
  },
  {
   "cell_type": "code",
   "execution_count": 31,
   "metadata": {
    "vscode": {
     "languageId": "sage"
    }
   },
   "outputs": [
    {
     "data": {
      "text/plain": [
       "[1, 2, 0, 4, 2]"
      ]
     },
     "execution_count": 31,
     "metadata": {},
     "output_type": "execute_result"
    }
   ],
   "source": [
    "import Sequences\n",
    "a = 1\n",
    "b = 2\n",
    "p = 5\n",
    "seq = []\n",
    "for i in range(5):\n",
    "    seq.append(Sequences.General_Motzkin_mod(a, b, i, p))\n",
    "\n",
    "seq"
   ]
  },
  {
   "cell_type": "markdown",
   "metadata": {},
   "source": [
    "## DFA.sage\n",
    "This file contains utility functions for computing, serializing, and evaluating Deterministic Finite Automata for constant term sequences modulo primes."
   ]
  },
  {
   "cell_type": "markdown",
   "metadata": {},
   "source": [
    "### `PolyAuto(P, Q, p, state_bound)`\n",
    "This function computes the finite state machine for the sequence `ConstantTermOf[(P^n)*Q] mod p` and halts if more than `state_bound` states are required. The states of the machine are labeled by polynomials beginning with `Q` and the transitions are pairs `(k, j)` which means that if a character `k` is given as input at this state, then transition to the state indexed by `j`."
   ]
  },
  {
   "cell_type": "code",
   "execution_count": 35,
   "metadata": {
    "vscode": {
     "languageId": "sage"
    }
   },
   "outputs": [
    {
     "name": "stdout",
     "output_type": "stream",
     "text": [
      "[t^2 + 1, t + 1, 1, t, 0]\n",
      "[[(0, 1), (1, 1)], [(0, 2), (1, 3)], [(0, 2), (1, 2)], [(0, 4), (1, 1)], [(0, 4), (1, 4)]]\n",
      "[1, 1, 1, 0, 0]\n"
     ]
    }
   ],
   "source": [
    "import DFA\n",
    "R.<t> = LaurentPolynomialRing(ZZ, 1)\n",
    "P = t^-1 + 1 + t\n",
    "Q = 1 - t^2\n",
    "p = 2\n",
    "\n",
    "(states, transitions, output_func) = DFA.PolyAuto(P, Q, p, 1000)\n",
    "\n",
    "print(states)\n",
    "print(transitions)\n",
    "\n",
    "state_outputs = []\n",
    "for state in states:\n",
    "    state_outputs.append(output_func(state))\n",
    "print(state_outputs)"
   ]
  },
  {
   "cell_type": "markdown",
   "metadata": {},
   "source": [
    "### `PolyAutoFailOnZero(P, Q, p, state_bound)`\n",
    "This function computes the finite state machine for the sequence `ConstantTermOf[(P^n)*Q] mod p` and halts if more than `state_bound` states are required, or if a state outputting `0` is reached. The states of the machine are labeled by polynomials beginning with `Q` and the transitions are pairs `(k, j)` which means that if a character `k` is given as input at this state, then transition to the state indexed by `j`."
   ]
  },
  {
   "cell_type": "code",
   "execution_count": 3,
   "metadata": {
    "vscode": {
     "languageId": "sage"
    }
   },
   "outputs": [
    {
     "name": "stdout",
     "output_type": "stream",
     "text": [
      "None\n"
     ]
    }
   ],
   "source": [
    "import DFA\n",
    "R.<t> = LaurentPolynomialRing(ZZ, 1)\n",
    "P = t^-1 + 1 + t\n",
    "Q = 1 - t^2\n",
    "p = 2\n",
    "\n",
    "print(DFA.PolyAutoFailOnZero(P, Q, p, 1000))"
   ]
  },
  {
   "cell_type": "markdown",
   "metadata": {},
   "source": [
    "### `serialize(machine, p)`\n",
    "This function takes as input a triple called `machine` which has the same form as the output of `PolyAuto` and computes a string serialization of the finite state machine which can be used with the Walnut library."
   ]
  },
  {
   "cell_type": "code",
   "execution_count": 5,
   "metadata": {
    "vscode": {
     "languageId": "sage"
    }
   },
   "outputs": [
    {
     "name": "stdout",
     "output_type": "stream",
     "text": [
      "lsd_2\n",
      "\n",
      "0 1\n",
      "0 -> 1\n",
      "1 -> 1\n",
      "\n",
      "1 1\n",
      "0 -> 2\n",
      "1 -> 3\n",
      "\n",
      "2 1\n",
      "0 -> 2\n",
      "1 -> 2\n",
      "\n",
      "3 0\n",
      "0 -> 4\n",
      "1 -> 1\n",
      "\n",
      "4 0\n",
      "0 -> 4\n",
      "1 -> 4\n",
      "\n",
      "\n"
     ]
    }
   ],
   "source": [
    "import DFA\n",
    "R.<t> = LaurentPolynomialRing(ZZ, 1)\n",
    "P = t^-1 + 1 + t\n",
    "Q = 1 - t^2\n",
    "p = 2\n",
    "\n",
    "machine = DFA.PolyAuto(P, Q, p, 1000)\n",
    "print(DFA.serialize(machine, p))"
   ]
  },
  {
   "cell_type": "markdown",
   "metadata": {},
   "source": [
    "### `evaluate(machine, p, input)`\n",
    "This function computes the output of `machine` on the `input` interpreted in base `p`. Machine should be a triple in the form of the output of `PolyAuto`."
   ]
  },
  {
   "cell_type": "code",
   "execution_count": 4,
   "metadata": {
    "vscode": {
     "languageId": "sage"
    }
   },
   "outputs": [
    {
     "data": {
      "text/plain": [
       "[1, 1, 2, 1, 0]"
      ]
     },
     "execution_count": 4,
     "metadata": {},
     "output_type": "execute_result"
    }
   ],
   "source": [
    "import DFA\n",
    "R.<t> = LaurentPolynomialRing(ZZ, 1)\n",
    "P = t^-1 + 1 + t\n",
    "Q = 1 - t^2\n",
    "p = 3\n",
    "\n",
    "machine = DFA.PolyAuto(P, Q, p, 1000)\n",
    "\n",
    "seq = []\n",
    "for i in range(5):\n",
    "    seq.append(DFA.evaluate(machine, p, i))\n",
    "seq"
   ]
  },
  {
   "cell_type": "markdown",
   "metadata": {},
   "source": [
    "## Transforms.sage\n",
    "This file contains utilities for transforming between a sequence `a_n` and a sequnce `q_n` such that if `Q` is the generating function for `q_n`, then `a_n = ConstantTermOf[P^nQ] mod p` for some fixed `P`. This functionality allows us to implement an algorithm for guessing the DFA for a sequence we suspect of being automatic from a prefix of that sequence."
   ]
  },
  {
   "cell_type": "markdown",
   "metadata": {},
   "source": [
    "### `transform(seq, P, p)`\n",
    "This function takes a sequence prefix `seq` and a polynomial `P` of the form `t^-1 + c_0*1 + ... + c_r*t^r` and computes the coefficients of a polynomial `Q` such that `seq[n] = ConstantTermOf[P^nQ]`."
   ]
  },
  {
   "cell_type": "code",
   "execution_count": 6,
   "metadata": {
    "vscode": {
     "languageId": "sage"
    }
   },
   "outputs": [
    {
     "data": {
      "text/plain": [
       "[1, 0, 1, 0, 0]"
      ]
     },
     "execution_count": 6,
     "metadata": {},
     "output_type": "execute_result"
    }
   ],
   "source": [
    "import Transforms\n",
    "R.<t> = LaurentPolynomialRing(ZZ, 1)\n",
    "P = t^-1 + 1 + t\n",
    "p = 2\n",
    "seq = [1,1,2,4,9]\n",
    "\n",
    "Transforms.transform(seq, P, p)"
   ]
  },
  {
   "cell_type": "markdown",
   "metadata": {},
   "source": [
    "### `transform_inverse(seq, P, p)`\n",
    "This function takes a sequence prefix `seq`, which are treated as the coefficients of a polynomial `Q`. It also takes a polynomial `P` of the form `t^-1 + c_0*1 + ... + c_r*t^r` and computes the sequence prefix for `a_n` where `a_n = ConstantTermOf[P^nQ] mod p`."
   ]
  },
  {
   "cell_type": "code",
   "execution_count": 8,
   "metadata": {
    "vscode": {
     "languageId": "sage"
    }
   },
   "outputs": [
    {
     "data": {
      "text/plain": [
       "[1, 1, 0, 0, 1]"
      ]
     },
     "execution_count": 8,
     "metadata": {},
     "output_type": "execute_result"
    }
   ],
   "source": [
    "import Transforms\n",
    "R.<t> = LaurentPolynomialRing(ZZ, 1)\n",
    "P = t^-1 + 1 + t\n",
    "p = 2\n",
    "seq = [1,0,1,0,0]\n",
    "\n",
    "Transforms.transform_inverse(seq, P, p)"
   ]
  },
  {
   "cell_type": "markdown",
   "metadata": {},
   "source": [
    "### `DFA_guess(seq, P, p)`\n",
    "This function takes a sequence prefix `seq` and computes a DFA which outputs this prefix modulo `p`. The polynomial, `P`, can be any polynomial of the form `t^-1 + c_0*1 + ... + c_r*t^r` and if you don't have a reason to care about its choice, just use `P = t^-1 + 1` or `P = t^-1 + 1 + t`."
   ]
  },
  {
   "cell_type": "code",
   "execution_count": 10,
   "metadata": {
    "vscode": {
     "languageId": "sage"
    }
   },
   "outputs": [
    {
     "name": "stdout",
     "output_type": "stream",
     "text": [
      "lsd_2\n",
      "\n",
      "0 0\n",
      "0 -> 0\n",
      "1 -> 1\n",
      "\n",
      "1 1\n",
      "0 -> 1\n",
      "1 -> 0\n",
      "\n",
      "\n"
     ]
    }
   ],
   "source": [
    "import Transforms\n",
    "R.<t> = LaurentPolynomialRing(ZZ, 1)\n",
    "P = t^-1 + 1\n",
    "p = 2\n",
    "seq = [0, 1, 1, 0, 1, 0, 0, 1, 1, 0, 0, 1, 0, 1]\n",
    "\n",
    "machine = Transforms.DFA_guess(seq, P, p)\n",
    "import DFA\n",
    "print(DFA.serialize(machine, p))"
   ]
  },
  {
   "cell_type": "markdown",
   "metadata": {},
   "source": [
    "## LinRep.sage\n",
    "This file contains utility functions for working with linear representations, esepecially those of constant term sequences modulo primes (in which case the resulting sequences are also automatic)."
   ]
  },
  {
   "cell_type": "markdown",
   "metadata": {},
   "source": [
    "### `poly_to_vec(poly, max_deg)`\n",
    "This function turns the polynomial `poly` into a row vector (whose type is a Sage Matrix) in the `2*max_deg+1`-dimensional vector space whose basis is `{x^-max_deg, ..., x^-1, 1, x^1, ..., x^max_deg}`."
   ]
  },
  {
   "cell_type": "code",
   "execution_count": 12,
   "metadata": {
    "vscode": {
     "languageId": "sage"
    }
   },
   "outputs": [
    {
     "data": {
      "text/plain": [
       "[0 1 0 4 6 0 7]"
      ]
     },
     "execution_count": 12,
     "metadata": {},
     "output_type": "execute_result"
    }
   ],
   "source": [
    "import LinRep\n",
    "R.<t> = LaurentPolynomialRing(ZZ, 1)\n",
    "poly = t^-2 + 4 + 6*t + 7*t^3\n",
    "\n",
    "LinRep.poly_to_vec(poly, 3)"
   ]
  },
  {
   "cell_type": "markdown",
   "metadata": {},
   "source": [
    "### `lin_rep(P, Q, p)`\n",
    "This function returns a linear representation for the sequence `a_n = ConstantTermOf[(P^n)*Q] mod p`. The linear representation is a row vector, a collection of `p` matrices, and a column vector such that `a_n` is congruent modulo `p` to the row vector times the product of the matrices indexed by the digits of `n` in base `p` times the column vector (see `apply_lin_rep` below)."
   ]
  },
  {
   "cell_type": "code",
   "execution_count": 19,
   "metadata": {
    "vscode": {
     "languageId": "sage"
    }
   },
   "outputs": [
    {
     "name": "stdout",
     "output_type": "stream",
     "text": [
      "Row vector: [0 0 1 0 2]\n",
      "Matrix 0:\n",
      "[0 0 0 0 0]\n",
      "[0 0 0 0 0]\n",
      "[0 0 1 0 0]\n",
      "[0 0 0 0 0]\n",
      "[0 0 0 0 0]\n",
      "Matrix 1:\n",
      "[0 1 0 0 0]\n",
      "[0 0 1 0 0]\n",
      "[0 0 1 0 0]\n",
      "[0 0 1 0 0]\n",
      "[0 0 0 1 0]\n",
      "Matrix 2:\n",
      "[0 2 1 0 0]\n",
      "[0 1 2 0 0]\n",
      "[0 0 0 0 0]\n",
      "[0 0 2 1 0]\n",
      "[0 0 1 2 0]\n",
      "Column vector:\n",
      "[0]\n",
      "[0]\n",
      "[1]\n",
      "[0]\n",
      "[0]\n"
     ]
    }
   ],
   "source": [
    "import LinRep\n",
    "p = 3\n",
    "R.<t> = LaurentPolynomialRing(GF(p), 1)\n",
    "P = t^-1 + 1 + t\n",
    "Q = 1 - t^2\n",
    "\n",
    "(v, mats, w) = LinRep.lin_rep(P, Q, p)\n",
    "print(f\"Row vector: {v}\")\n",
    "for i in range(len(mats)):\n",
    "    print(f\"Matrix {i}:\\n{mats[i]}\")\n",
    "print(f\"Column vector:\\n{w}\")"
   ]
  },
  {
   "cell_type": "markdown",
   "metadata": {},
   "source": [
    "### `apply_lin_rep(v, mats, w, n, p)`\n",
    "This function converts `n` into base `p` and then replaces these digits (in order) with the corresponding matrices from mats and returns `v*mats*w`. When `(v, mats, w)` is a linear representation of a sequence modulo `p`, this will return the `n`th element of that sequence."
   ]
  },
  {
   "cell_type": "code",
   "execution_count": 7,
   "metadata": {
    "vscode": {
     "languageId": "sage"
    }
   },
   "outputs": [
    {
     "data": {
      "text/plain": [
       "[1, 1, 2, 1, 0]"
      ]
     },
     "execution_count": 7,
     "metadata": {},
     "output_type": "execute_result"
    }
   ],
   "source": [
    "import LinRep\n",
    "p = 3\n",
    "R.<t> = LaurentPolynomialRing(GF(p), 1)\n",
    "P = t^-1 + 1 + t\n",
    "Q = 1 - t^2\n",
    "\n",
    "(v, mats, w) = LinRep.lin_rep(P, Q, p)\n",
    "seq = []\n",
    "for i in range(5):\n",
    "    seq.append(LinRep.apply_lin_rep(v, mats, w, i, p))\n",
    "seq"
   ]
  },
  {
   "cell_type": "markdown",
   "metadata": {},
   "source": [
    "### `lin_rep_to_machine(v, mats, p, state_bound)`\n",
    "This function converts a linear representation into its corresponding finite state machine (which exists since we are working over `GF(p)`). This function returns `None` if more than `state_bound` states are required. The states are labeled by vectors (corresponding to possible `v`s) and the transition at index `k` is labeled by a vector `j` if means that if a character `k` is given as input at this state, then transition to the state labeled by `v`."
   ]
  },
  {
   "cell_type": "code",
   "execution_count": 1,
   "metadata": {
    "vscode": {
     "languageId": "sage"
    }
   },
   "outputs": [
    {
     "data": {
      "text/plain": [
       "([[0 0 1 0 2],\n",
       "  [0 0 1 0 0],\n",
       "  [0 0 1 2 0],\n",
       "  [0 0 2 1 0],\n",
       "  [0 0 0 0 0],\n",
       "  [0 0 2 0 0]],\n",
       " [[[0 0 1 0 0], [0 0 1 2 0], [0 0 2 1 0]],\n",
       "  [[0 0 1 0 0], [0 0 1 0 0], [0 0 0 0 0]],\n",
       "  [[0 0 1 0 0], [0 0 0 0 0], [0 0 1 2 0]],\n",
       "  [[0 0 2 0 0], [0 0 0 0 0], [0 0 2 1 0]],\n",
       "  [[0 0 0 0 0], [0 0 0 0 0], [0 0 0 0 0]],\n",
       "  [[0 0 2 0 0], [0 0 2 0 0], [0 0 0 0 0]]])"
      ]
     },
     "execution_count": 1,
     "metadata": {},
     "output_type": "execute_result"
    }
   ],
   "source": [
    "import LinRep\n",
    "p = 3\n",
    "R.<t> = LaurentPolynomialRing(GF(p), 1)\n",
    "P = t^-1 + 1 + t\n",
    "Q = 1 - t^2\n",
    "\n",
    "(v, mats, w) = LinRep.lin_rep(P, Q, p)\n",
    "LinRep.lin_rep_to_machine(v, mats, p, 1000)"
   ]
  },
  {
   "cell_type": "markdown",
   "metadata": {},
   "source": [
    "### `serialize_lin_rep_machine(machine, w, p)`\n",
    "This function serializes a DFA given in the format of the output of `lin_rep_to_machine` to the serialization format required by Walnut."
   ]
  },
  {
   "cell_type": "code",
   "execution_count": 3,
   "metadata": {
    "vscode": {
     "languageId": "sage"
    }
   },
   "outputs": [
    {
     "name": "stdout",
     "output_type": "stream",
     "text": [
      "lsd_3\n",
      "\n",
      "0 1\n",
      "0 -> 1\n",
      "1 -> 2\n",
      "2 -> 3\n",
      "\n",
      "1 1\n",
      "0 -> 1\n",
      "1 -> 1\n",
      "2 -> 4\n",
      "\n",
      "2 1\n",
      "0 -> 1\n",
      "1 -> 4\n",
      "2 -> 2\n",
      "\n",
      "3 2\n",
      "0 -> 5\n",
      "1 -> 4\n",
      "2 -> 3\n",
      "\n",
      "4 0\n",
      "0 -> 4\n",
      "1 -> 4\n",
      "2 -> 4\n",
      "\n",
      "5 2\n",
      "0 -> 5\n",
      "1 -> 5\n",
      "2 -> 4\n",
      "\n",
      "\n"
     ]
    }
   ],
   "source": [
    "import LinRep\n",
    "p = 3\n",
    "R.<t> = LaurentPolynomialRing(GF(p), 1)\n",
    "P = t^-1 + 1 + t\n",
    "Q = 1 - t^2\n",
    "\n",
    "(v, mats, w) = LinRep.lin_rep(P, Q, p)\n",
    "machine = LinRep.lin_rep_to_machine(v, mats, p, 1000)\n",
    "print(LinRep.serialize_lin_rep_machine(machine, w, p))"
   ]
  },
  {
   "cell_type": "markdown",
   "metadata": {},
   "source": [
    "### `compute_shortest_zero(P, Q, p, state_bound)`\n",
    "This function efficiently computes the first index at which `a_n = ConstantTermOf[(P^n)*Q]` is congruent to `0` modulo `p`. This function fails if more than `state_bound` states are required during this computation."
   ]
  },
  {
   "cell_type": "code",
   "execution_count": 1,
   "metadata": {
    "vscode": {
     "languageId": "sage"
    }
   },
   "outputs": [
    {
     "name": "stdout",
     "output_type": "stream",
     "text": [
      "4\n"
     ]
    }
   ],
   "source": [
    "import LinRep\n",
    "p = 3\n",
    "R.<t> = LaurentPolynomialRing(GF(p), 1)\n",
    "P = t^-1 + 1 + t\n",
    "Q = 1 - t^2\n",
    "\n",
    "shortest_zero = LinRep.compute_shortest_zero(P, Q, p, 1000)\n",
    "print(shortest_zero)"
   ]
  },
  {
   "cell_type": "markdown",
   "metadata": {},
   "source": [
    "## Density.sage\n",
    "This file contains utility functions for computing the densities of possible outputs, especially `0`, in constant term sequences modulo primes."
   ]
  },
  {
   "cell_type": "markdown",
   "metadata": {},
   "source": [
    "### `compute_densities(P, Q, p)`\n",
    "This function computes the densities of `0,1,...,p-1` in the sequence `a_n = ConstantTermOf[(P^n)*Q] mod p`. This is done in a generic but inefficient way."
   ]
  },
  {
   "cell_type": "code",
   "execution_count": 2,
   "metadata": {
    "vscode": {
     "languageId": "sage"
    }
   },
   "outputs": [
    {
     "data": {
      "text/plain": [
       "[1/10 9/40 9/40 9/40 9/40]"
      ]
     },
     "execution_count": 2,
     "metadata": {},
     "output_type": "execute_result"
    }
   ],
   "source": [
    "import Density\n",
    "R.<t> = LaurentPolynomialRing(ZZ, 1)\n",
    "P = t^-1 + 1 + t\n",
    "Q = 1 - t^2\n",
    "p = 5\n",
    "\n",
    "Density.compute_densities(P, Q, p)"
   ]
  },
  {
   "cell_type": "markdown",
   "metadata": {},
   "source": [
    "### `motzkin_zero_density_mod(p)`\n",
    "This function efficiently computes the density of `0` in the Motzkin numbers modulo `p` using [Corollary 12](https://arxiv.org/pdf/2411.03681)."
   ]
  },
  {
   "cell_type": "code",
   "execution_count": 3,
   "metadata": {
    "vscode": {
     "languageId": "sage"
    }
   },
   "outputs": [
    {
     "name": "stdout",
     "output_type": "stream",
     "text": [
      "Density of zero modulo 2: 1/3\n",
      "Density of zero modulo 3: 1\n",
      "Density of zero modulo 5: 1/10\n",
      "Density of zero modulo 7: 1\n",
      "Density of zero modulo 11: 1/55\n",
      "Density of zero modulo 13: 1/78\n",
      "Density of zero modulo 17: 1\n",
      "Density of zero modulo 19: 1\n",
      "Density of zero modulo 23: 1/253\n",
      "Density of zero modulo 29: 22/3045\n"
     ]
    }
   ],
   "source": [
    "import Density\n",
    "primes = Primes()\n",
    "\n",
    "for i in range(10):\n",
    "    p = primes.unrank(i)\n",
    "    density = Density.motzkin_zero_density_mod(p)\n",
    "    print(f\"Density of zero modulo {p}: {density}\")"
   ]
  },
  {
   "cell_type": "markdown",
   "metadata": {},
   "source": [
    "### `general_motzkin_zero_density_mod(a, b, p)`\n",
    "This function efficiently computes the density of `0` in the generalized Motzkin numbers modulo `p` using [Proposition 11](https://arxiv.org/pdf/2411.03681)."
   ]
  },
  {
   "cell_type": "code",
   "execution_count": 7,
   "metadata": {
    "vscode": {
     "languageId": "sage"
    }
   },
   "outputs": [
    {
     "name": "stdout",
     "output_type": "stream",
     "text": [
      "Density of zero modulo 2: 0.3333333333333334?\n",
      "Density of zero modulo 3: 1\n",
      "Density of zero modulo 5: 1\n",
      "Density of zero modulo 7: 1/21\n",
      "Density of zero modulo 11: 1\n",
      "Density of zero modulo 13: 1\n",
      "Density of zero modulo 17: 1/2448\n",
      "Density of zero modulo 19: 1/171\n",
      "Density of zero modulo 23: 1/253\n",
      "Density of zero modulo 29: 1\n"
     ]
    }
   ],
   "source": [
    "import Density\n",
    "primes = Primes()\n",
    "a = 1\n",
    "b = 3\n",
    "\n",
    "for i in range(10):\n",
    "    p = primes.unrank(i)\n",
    "    density = Density.general_motzkin_zero_density_mod(a, b, p)\n",
    "    print(f\"Density of zero modulo {p}: {density}\")"
   ]
  },
  {
   "cell_type": "markdown",
   "metadata": {},
   "source": [
    "### `general_linear_zero_density_mod(Q, a, b, c, d, p)`\n",
    "This function efficiently computes the density of `0` for sequences of the form `a_n = ConstantTermOf[(t^-1 + 1 + t)^n*Q] mod p` where `Q` is a linear polynomial so that the approach of [Section 3.1](https://arxiv.org/pdf/2411.03681) applies with equations to check being: `a*T_n = b*T_(p-1)*T_(n+1)` and `c*T_n = d*T_(n+1)`."
   ]
  },
  {
   "cell_type": "code",
   "execution_count": 10,
   "metadata": {
    "vscode": {
     "languageId": "sage"
    }
   },
   "outputs": [
    {
     "name": "stdout",
     "output_type": "stream",
     "text": [
      "Density of zero modulo 2: 0.3333333333333334?\n",
      "Density of zero modulo 3: 1\n",
      "Density of zero modulo 5: 1/4\n",
      "Density of zero modulo 7: 1\n",
      "Density of zero modulo 11: 1/10\n",
      "Density of zero modulo 13: 1/6\n",
      "Density of zero modulo 17: 1\n",
      "Density of zero modulo 19: 1\n",
      "Density of zero modulo 23: 1/22\n",
      "Density of zero modulo 29: 11/105\n"
     ]
    }
   ],
   "source": [
    "import Density\n",
    "R.<t> = LaurentPolynomialRing(ZZ, 1)\n",
    "P = t^-1 + 1 + t\n",
    "Q = 1 - t\n",
    "primes = Primes()\n",
    "\n",
    "for i in range(10):\n",
    "    p = primes.unrank(i)\n",
    "    density = Density.generic_linear_zero_density_mod(Q, 3, 1, 3, 1, p)\n",
    "    print(f\"Density of zero modulo {p}: {density}\")"
   ]
  }
 ],
 "metadata": {
  "kernelspec": {
   "display_name": "SageMath 9.5",
   "language": "sage",
   "name": "SageMath-9.5"
  },
  "language_info": {
   "codemirror_mode": {
    "name": "ipython",
    "version": 3
   },
   "file_extension": ".py",
   "mimetype": "text/x-python",
   "name": "python",
   "nbconvert_exporter": "python",
   "pygments_lexer": "ipython3",
   "version": "3.9.9"
  }
 },
 "nbformat": 4,
 "nbformat_minor": 2
}
